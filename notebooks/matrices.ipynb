{
 "cells": [
  {
   "cell_type": "code",
   "execution_count": null,
   "metadata": {},
   "outputs": [],
   "source": [
    "%matplotlib inline\n",
    "import numpy as np\n",
    "import matplotlib.pyplot as plt\n",
    "from matplotlib import cm\n",
    "from matplotlib.colors import ListedColormap, LinearSegmentedColormap\n",
    "import os\n",
    "import scipy.io\n",
    "from scipy.fftpack import dct, idct\n",
    "from scipy.optimize import minimize\n",
    "\n",
    "\n",
    "plt.rcParams['figure.figsize'] = [12, 12]\n",
    "plt.rcParams.update({'font.size': 18})\n",
    "\n",
    "p = 14\n",
    "n = 32"
   ]
  },
  {
   "cell_type": "code",
   "execution_count": null,
   "metadata": {},
   "outputs": [],
   "source": [
    "Psi = dct(np.identity(n))\n",
    "fig = plt.figure(frameon=False)\n",
    "fig.set_size_inches(w=n*0.6/2.54, h=n*0.6/2.54)  # Adjust the figure size here\n",
    "ax = plt.Axes(fig, [0., 0., 1., 1.])\n",
    "ax.set_axis_off()\n",
    "fig.add_axes(ax)\n",
    "\n",
    "ax.imshow(np.flipud(Psi), aspect='auto', cmap=\"GnBu\")\n",
    "plt.show()"
   ]
  },
  {
   "cell_type": "code",
   "execution_count": null,
   "metadata": {},
   "outputs": [],
   "source": [
    "## Plot C\n",
    "plt.rcParams['figure.figsize'] = [12, 6]\n",
    "fig,ax = plt.subplots(1,1)\n",
    "C = np.identity(n)\n",
    "perm = np.random.permutation(n)[:p]\n",
    "C = C[perm,:] # compressed measurement\n",
    "\n",
    "plt.pcolor(np.flipud(C),cmap=\"GnBu\")\n",
    "plt.grid(True)\n",
    "plt.xticks(np.arange(n))\n",
    "plt.yticks(np.arange(len(perm)))\n",
    "ax.set_xticklabels([])\n",
    "ax.set_yticklabels([])\n",
    "plt.show()\n"
   ]
  },
  {
   "cell_type": "code",
   "execution_count": null,
   "metadata": {},
   "outputs": [],
   "source": [
    "# # Cector s of length n with only k non-zero elements\n",
    "k = 4\n",
    "s = np.zeros(n)\n",
    "perm = np.random.permutation(n)[:k]\n",
    "s[perm] = np.random.randn(k)\n",
    "\n",
    "fig = plt.figure(frameon=False)\n",
    "fig.set_size_inches(w=n*0.6/2.54, h=1*0.6/2.54)  # Adjust the figure size here\n",
    "ax = plt.Axes(fig, [0., 0., 1., 1.])\n",
    "ax.set_axis_off()\n",
    "fig.add_axes(ax)\n",
    "\n",
    "ax.imshow(np.flipud(s[None, :]), aspect='auto', cmap=\"GnBu\")\n",
    "plt.show()"
   ]
  },
  {
   "cell_type": "code",
   "execution_count": null,
   "metadata": {},
   "outputs": [],
   "source": [
    "x = Psi @ s\n",
    "\n",
    "fig = plt.figure(frameon=False)\n",
    "fig.set_size_inches(w=n*0.6/2.54, h=1*0.6/2.54)  # Adjust the figure size here\n",
    "ax = plt.Axes(fig, [0., 0., 1., 1.])\n",
    "ax.set_axis_off()\n",
    "fig.add_axes(ax)\n",
    "\n",
    "ax.imshow(np.flipud(x[None, :]), aspect='auto', cmap=\"GnBu\")\n",
    "plt.show()"
   ]
  },
  {
   "cell_type": "code",
   "execution_count": null,
   "metadata": {},
   "outputs": [],
   "source": [
    "## Plot C and Theta (2) - Gaussian Random\n",
    "plt.rcParams['figure.figsize'] = [8, 4]\n",
    "\n",
    "Theta = C @ Psi\n",
    "fig = plt.figure(frameon=False)\n",
    "fig.set_size_inches(w=n*0.6/2.54, h=p*0.6/2.54)  # Adjust the figure size here\n",
    "ax = plt.Axes(fig, [0., 0., 1., 1.])\n",
    "ax.set_axis_off()\n",
    "fig.add_axes(ax)\n",
    "\n",
    "ax.imshow(np.flipud(Theta), aspect='auto', cmap=\"GnBu\")\n",
    "plt.show()"
   ]
  },
  {
   "cell_type": "code",
   "execution_count": null,
   "metadata": {},
   "outputs": [],
   "source": [
    "y = C @ Psi @ s\n",
    "print(s.shape)\n",
    "print(y.shape)\n",
    "\n",
    "fig = plt.figure(frameon=False)\n",
    "fig.set_size_inches(w=p*0.6/2.54, h=1*0.6/2.54)  # Adjust the figure size here\n",
    "ax = plt.Axes(fig, [0., 0., 1., 1.])\n",
    "ax.set_axis_off()\n",
    "fig.add_axes(ax)\n",
    "\n",
    "ax.imshow(np.flipud(y[None, :]), aspect='auto', cmap=\"GnBu\")\n",
    "plt.show()"
   ]
  }
 ],
 "metadata": {
  "kernelspec": {
   "display_name": "compressed-sensing-w79ShKFQ-py3.11",
   "language": "python",
   "name": "python3"
  },
  "language_info": {
   "codemirror_mode": {
    "name": "ipython",
    "version": 3
   },
   "file_extension": ".py",
   "mimetype": "text/x-python",
   "name": "python",
   "nbconvert_exporter": "python",
   "pygments_lexer": "ipython3",
   "version": "3.11.3"
  }
 },
 "nbformat": 4,
 "nbformat_minor": 2
}
